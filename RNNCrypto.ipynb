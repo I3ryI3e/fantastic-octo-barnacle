{
  "nbformat": 4,
  "nbformat_minor": 0,
  "metadata": {
    "colab": {
      "name": "Untitled2.ipynb",
      "version": "0.3.2",
      "provenance": [],
      "include_colab_link": true
    },
    "kernelspec": {
      "name": "python3",
      "display_name": "Python 3"
    }
  },
  "cells": [
    {
      "cell_type": "markdown",
      "metadata": {
        "id": "view-in-github",
        "colab_type": "text"
      },
      "source": [
        "<a href=\"https://colab.research.google.com/github/I3ryI3e/fantastic-octo-barnacle/blob/master/RNNCrypto.ipynb\" target=\"_parent\"><img src=\"https://colab.research.google.com/assets/colab-badge.svg\" alt=\"Open In Colab\"/></a>"
      ]
    },
    {
      "metadata": {
        "id": "qC3StY1OfX74",
        "colab_type": "code",
        "colab": {}
      },
      "cell_type": "code",
      "source": [
        "import requests        # for making http requests to binance\n",
        "import json            # for parsing what binance sends back to us\n",
        "import pandas as pd    # for storing and manipulating the data we get back\n",
        "import numpy as np     # numerical python\n",
        "from sklearn import preprocessing  #helps in the preprocessing function\n",
        "from collections import deque\n",
        "import matplotlib.pyplot as plt # for charts and such\n",
        "import random\n",
        "    \n",
        "import datetime as dt  # for dealing with times\n",
        "\n",
        "#Fetch data from how many days ago?\n",
        "DAYS_AGO = 4\n",
        "#1 Day = 86400000 miliseconds\n",
        "DAY_TO_MILISECONDS = 86400000\n",
        "#Days to miliseconds\n",
        "DAYS_IN_MILISECONDS = DAYS_AGO * DAY_TO_MILISECONDS\n",
        "#Number of samples (Max 1000)\n",
        "LIMIT = 1000\n",
        "#1 Minute = 60000 mili\n",
        "MIN_EQUALS_MILS= 60000\n",
        "# SEQ_LEN = How much hours are we going to give to the NN so it can predict \n",
        "SEQ_LEN = 60\n",
        "# What Pair are we going to predict\n",
        "RATIO_TO_PREDICT = 'ETHUSDT'\n",
        "#How many hours ahead are we going to predict(if '1' we are going to predict if the price is going to be higher in the next hour)\n",
        "FUTURE_PERIOD_PREDICT = 3\n",
        "#Validation sample split\n",
        "VALIDATION_PERCENTAGE = 0.05\n",
        "TRAINING_DATA = 1-VALIDATION_PERCENTAGE\n"
      ],
      "execution_count": 0,
      "outputs": []
    },
    {
      "metadata": {
        "id": "wCGf-8_jfaeF",
        "colab_type": "code",
        "colab": {}
      },
      "cell_type": "code",
      "source": [
        "#Connect to binance API and get the data in each pair we want information on\n",
        "# INPUTS: symbol = The pair(ex= LTC-USDT) // Interval = 1h(1 hour intervals)\n",
        "# OUTPUTS: DataFrame with the data \n",
        "\n",
        "def get_bars(symbol, startTime ,interval = '1m'):\n",
        " root_url = 'https://api.binance.com/api/v1/klines'\n",
        " url = root_url + '?symbol=' + symbol + '&interval=' + interval + '&startTime=' + str(startTime) + '&limit=' + str(LIMIT) \n",
        " data = json.loads(requests.get(url).text)\n",
        " df = pd.DataFrame(data)\n",
        " df.columns = ['open_time',\n",
        "               'open_price', 'high', 'low', 'close_price', 'volume',\n",
        "               'close_time', 'qav', 'num_trades',\n",
        "               'taker_base_vol', 'taker_quote_vol', 'ignore']\n",
        " df=df.drop(columns=['close_time', 'qav', 'num_trades',\n",
        "               'taker_base_vol', 'taker_quote_vol', 'ignore'])\n",
        " return df"
      ],
      "execution_count": 0,
      "outputs": []
    },
    {
      "metadata": {
        "id": "WgFwo8ntfeQK",
        "colab_type": "code",
        "colab": {}
      },
      "cell_type": "code",
      "source": [
        "#Does the targets for the network.\n",
        "#INPUTS: Current price; Future Price\n",
        "#OUTPUT: 1 if the Future Price is higher than the current price, 0 otherwise\n",
        "\n",
        "def classify(current, future):\n",
        "  if float(future) > float(current):\n",
        "    return 1\n",
        "  else:\n",
        "    return 0"
      ],
      "execution_count": 0,
      "outputs": []
    },
    {
      "metadata": {
        "id": "agOWJSA39DRf",
        "colab_type": "code",
        "colab": {}
      },
      "cell_type": "code",
      "source": [
        "def preprocess(df):\n",
        "  df = df.drop('future', 1)\n",
        "  for col in df.columns:\n",
        "    if col != 'target':\n",
        "      df[col]=df[col].astype(float).pct_change()\n",
        "      df.dropna(inplace=True)\n",
        "      df[col] = preprocessing.scale(df[col].values)\n",
        "      \n",
        "  df.dropna(inplace=True)\n",
        "  print(df.columns)\n",
        "  sequential_data = []\n",
        "  prev_days= deque(maxlen=SEQ_LEN)\n",
        "  #Making the sequeces // appending values until we get to SEQ_LEN and add it to sequential_data\n",
        "  #that's going to be a list of sequences\n",
        "  for i in df.values:\n",
        "      print(i)\n",
        "      prev_days.append([n for n in i[:-1]])\n",
        "      if len(prev_days) == SEQ_LEN:\n",
        "        sequential_data.append([np.array(prev_days),i[-1]])      \n",
        "  random.shuffle(sequential_data)"
      ],
      "execution_count": 0,
      "outputs": []
    },
    {
      "metadata": {
        "id": "XJVBSeKKeXfC",
        "colab_type": "code",
        "outputId": "64275171-2b40-467e-90d2-3cfdc3de7623",
        "colab": {
          "base_uri": "https://localhost:8080/",
          "height": 145
        }
      },
      "cell_type": "code",
      "source": [
        "#Preparing all the DataFrame to work with\n",
        "\n",
        "root_url = 'https://api.binance.com/api/v1/time'\n",
        "now = json.loads(requests.get(root_url).text)\n",
        "now = now.get('serverTime')\n",
        "earlier5days = now - DAYS_IN_MILISECONDS\n",
        "btcusdt = pd.DataFrame()\n",
        "ethusdt = pd.DataFrame()\n",
        "ltcusdt = pd.DataFrame()\n",
        "xrpusdt = pd.DataFrame()\n",
        "\n",
        "for x in range(earlier5days, now, (LIMIT*MIN_EQUALS_MILS)):\n",
        "  print(x)\n",
        "  btcusdt = pd.concat([btcusdt,get_bars('BTCUSDT',x)])\n",
        "  ethusdt = pd.concat([ethusdt,get_bars('ETHUSDT',x)])\n",
        "  ltcusdt = pd.concat([ltcusdt,get_bars('LTCUSDT',x)])\n",
        "  xrpusdt = pd.concat([xrpusdt,get_bars('XRPUSDT',x)])\n",
        "\n",
        "main_df = pd.DataFrame(ethusdt)\n",
        "print(len(main_df))\n",
        "main_df= pd.merge(main_df,btcusdt,on='open_time',how='left',suffixes=('_ETHUSDT','_BTCUSDT')).fillna(method='ffill')\n",
        "\n",
        "ltcusdtColumNames=ltcusdt.columns.tolist()\n",
        "renamedNamesLTC=[]\n",
        "for name in ltcusdtColumNames:\n",
        "  renamedNamesLTC.append(name+\"_LTCUSDT\")\n",
        "      \n",
        "renamedNamesLTC=dict(zip(ltcusdtColumNames, renamedNamesLTC))\n",
        "ltcusdt=ltcusdt.rename(index=str, columns=renamedNamesLTC)\n",
        "\n",
        "xrpusdtColumNames=xrpusdt.columns.tolist()\n",
        "renamedNamesXRP=[]\n",
        "for name in xrpusdtColumNames:\n",
        "  renamedNamesXRP.append(name+\"_XRPUSDT\")\n",
        "      \n",
        "renamedNamesXRP=dict(zip(xrpusdtColumNames, renamedNamesXRP))\n",
        "xrpusdt=xrpusdt.rename(index=str, columns=renamedNamesXRP)\n",
        "\n",
        "\n",
        "main_df= pd.concat([main_df.reset_index(drop=True),ltcusdt.reset_index(drop=True)], axis=1)\n",
        "main_df= pd.concat([main_df.reset_index(drop=True),xrpusdt.reset_index(drop=True)], axis=1)\n",
        "main_df.index = [dt.datetime.fromtimestamp(x/1000.0) for x in main_df.open_time]\n",
        "main_df=main_df.drop(columns=['open_time','open_time_LTCUSDT','open_time_XRPUSDT'])\n",
        "\n",
        "\n",
        "main_df['future'] = main_df[f'close_price_{RATIO_TO_PREDICT}'].shift(-FUTURE_PERIOD_PREDICT)\n",
        "main_df['target'] = list(map(classify, main_df[f'close_price_{RATIO_TO_PREDICT}'], main_df['future']))\n",
        "\n"
      ],
      "execution_count": 7,
      "outputs": [
        {
          "output_type": "stream",
          "text": [
            "1542667601353\n",
            "1542727601353\n",
            "1542787601353\n",
            "1542847601353\n",
            "1542907601353\n",
            "1542967601353\n",
            "5760\n"
          ],
          "name": "stdout"
        }
      ]
    },
    {
      "metadata": {
        "id": "30wyFx2vsRcM",
        "colab_type": "code",
        "colab": {}
      },
      "cell_type": "code",
      "source": [
        "#Separate Validation data -- Last VALIDATION_PERCENTAGE of the data\n",
        "\n",
        "times = sorted(main_df.index.values)\n",
        "last_Xpct = times[-int(VALIDATION_PERCENTAGE*len(times))]\n",
        "\n",
        "validation_data = main_df[(main_df.index >= last_Xpct)]\n",
        "main_df= main_df[(main_df.index < last_Xpct)]\n",
        "\n",
        "print(len(main_df))\n",
        "print(len(validation_data))\n",
        "print(main_df.head())\n",
        "print(validation_data.head())"
      ],
      "execution_count": 0,
      "outputs": []
    },
    {
      "metadata": {
        "id": "-VF8vLl2zjTm",
        "colab_type": "code",
        "colab": {}
      },
      "cell_type": "code",
      "source": [
        "preprocess(main_df)\n",
        "#train_x,train_y = preprocess_df(main_df)\n",
        "#validation_x, validation_y = preprocess_df(validation_data)\n"
      ],
      "execution_count": 0,
      "outputs": []
    }
  ]
}